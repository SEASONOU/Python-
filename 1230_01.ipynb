{
  "nbformat": 4,
  "nbformat_minor": 0,
  "metadata": {
    "colab": {
      "provenance": [],
      "authorship_tag": "ABX9TyP8N7YThPTxtPock5abdh6k",
      "include_colab_link": true
    },
    "kernelspec": {
      "name": "python3",
      "display_name": "Python 3"
    },
    "language_info": {
      "name": "python"
    }
  },
  "cells": [
    {
      "cell_type": "markdown",
      "metadata": {
        "id": "view-in-github",
        "colab_type": "text"
      },
      "source": [
        "<a href=\"https://colab.research.google.com/github/SEASONOU/Python-/blob/main/1230_01.ipynb\" target=\"_parent\"><img src=\"https://colab.research.google.com/assets/colab-badge.svg\" alt=\"Open In Colab\"/></a>"
      ]
    },
    {
      "cell_type": "markdown",
      "source": [
        "#迴圈\n",
        "\n",
        "```python\n",
        "\n",
        "Part1. 重複n次: 從0開始數到n-1次\n",
        "10: 0 1 ... 9\n",
        "\n",
        "準備一個計數器\n",
        "1. 初始化: i = 0\n",
        "2. 判斷: i < 10\n",
        "3. 增加: i = i + 1\n",
        "\n",
        "i = 0\n",
        "while i < 10:\n",
        "    print(\"Hello\")\n",
        "    i = i + 1\n",
        "\n",
        "好習慣: 這三行絕對不改\n",
        "1.次數就在 < 後面\n",
        "2.數: 0 1 ... 次-1\n",
        "\n",
        "Q1. 1 2 ... 10\n",
        "A1. i + 1\n",
        "\n",
        "Q2. 10 9 .... 1\n",
        "A2. 10 - i\n",
        "\n",
        "Q3. 1 3 5 7\n",
        "Q3. 2 * i + 1\n",
        "\n",
        "\n",
        "````"
      ],
      "metadata": {
        "id": "9Xl3TDb6QEoo"
      }
    },
    {
      "cell_type": "markdown",
      "source": [],
      "metadata": {
        "id": "H4LCdywJbyWj"
      }
    },
    {
      "cell_type": "code",
      "source": [
        "i = 0\n",
        "while i < 10:\n",
        "    print(5 + i,\n",
        "       20 - i,\n",
        "       2 * i + 1,\n",
        "       #50 47 44\n",
        "       50 - 3 * i)\n",
        "    i = i + 1"
      ],
      "metadata": {
        "colab": {
          "base_uri": "https://localhost:8080/"
        },
        "id": "SxO1f6f_Vttw",
        "outputId": "598c7f48-7d1c-4dca-a337-0739ba1eb470"
      },
      "execution_count": 2,
      "outputs": [
        {
          "output_type": "stream",
          "name": "stdout",
          "text": [
            "5 20 1 50\n",
            "6 19 3 47\n",
            "7 18 5 44\n",
            "8 17 7 41\n",
            "9 16 9 38\n",
            "10 15 11 35\n",
            "11 14 13 32\n",
            "12 13 15 29\n",
            "13 12 17 26\n",
            "14 11 19 23\n"
          ]
        }
      ]
    },
    {
      "cell_type": "code",
      "source": [
        "i = 0\n",
        "while i <10:\n",
        "    i = i + 1"
      ],
      "metadata": {
        "id": "VVvgIfMGcHFH"
      },
      "execution_count": null,
      "outputs": []
    },
    {
      "cell_type": "code",
      "source": [
        "i = 0\n",
        "while i < 10:\n",
        "    print(\"x\" * (i + 1))\n",
        "    i = i + 1"
      ],
      "metadata": {
        "colab": {
          "base_uri": "https://localhost:8080/"
        },
        "id": "60h1WpgVdCH1",
        "outputId": "4fa97c7b-f7a1-45a6-c6fa-d4b2fdf0c6c3"
      },
      "execution_count": 3,
      "outputs": [
        {
          "output_type": "stream",
          "name": "stdout",
          "text": [
            "x\n",
            "xx\n",
            "xxx\n",
            "xxxx\n",
            "xxxxx\n",
            "xxxxxx\n",
            "xxxxxxx\n",
            "xxxxxxxx\n",
            "xxxxxxxxx\n",
            "xxxxxxxxxx\n"
          ]
        }
      ]
    },
    {
      "cell_type": "code",
      "source": [
        "#範例\n",
        "heigh = 10\n",
        "lsymbol, rsymbol = \" \", \"o\"\n",
        "i = 0\n",
        "while i < heigh:\n",
        "    lcount = heigh - i - 1\n",
        "    rcount = i + 1\n",
        "    print(lsymbol * lcount +\n",
        "       rsymbol * rcount)\n",
        "    i = i + 1"
      ],
      "metadata": {
        "colab": {
          "base_uri": "https://localhost:8080/"
        },
        "id": "15Pv4LO0d2Ob",
        "outputId": "7f888091-45d9-4857-aa34-8a2c8073f606"
      },
      "execution_count": 13,
      "outputs": [
        {
          "output_type": "stream",
          "name": "stdout",
          "text": [
            "         o\n",
            "        oo\n",
            "       ooo\n",
            "      oooo\n",
            "     ooooo\n",
            "    oooooo\n",
            "   ooooooo\n",
            "  oooooooo\n",
            " ooooooooo\n",
            "oooooooooo\n"
          ]
        }
      ]
    },
    {
      "cell_type": "code",
      "source": [
        "#例題1\n",
        "#寫出語法: .=空白\n",
        "ooooooo\n",
        ".ooooo.\n",
        "..ooo..\n",
        "...o..."
      ],
      "metadata": {
        "id": "qhSwYcRqhrAX"
      },
      "execution_count": null,
      "outputs": []
    },
    {
      "cell_type": "code",
      "source": [
        "heigh = 4\n",
        "lsymbol, msymbol, rsymbol = \" \", \"o\", \" \"\n",
        "i = 0\n",
        "while i < heigh:\n",
        "    lcount = i\n",
        "    # 7 = (4 * 2 - 1)  第一排數量=(層數 * 2 - 1)\n",
        "    mcount = (heigh * 2 - 1) - 2 * i\n",
        "    rcount = i\n",
        "    print(lsymbol * lcount +\n",
        "       msymbol * mcount +\n",
        "       rsymbol * rcount)\n",
        "    i = i + 1"
      ],
      "metadata": {
        "colab": {
          "base_uri": "https://localhost:8080/"
        },
        "id": "T5qylwdgiBhx",
        "outputId": "2b4ba983-823e-4d4d-9aed-eb67d9311559"
      },
      "execution_count": 21,
      "outputs": [
        {
          "output_type": "stream",
          "name": "stdout",
          "text": [
            "ooooooo\n",
            " ooooo \n",
            "  ooo  \n",
            "   o   \n"
          ]
        }
      ]
    },
    {
      "cell_type": "code",
      "source": [
        "#例題2\n",
        "#寫出語法: .=空白\n",
        "ooooooooo\n",
        ".xxxxxxx.\n",
        "..ooooo..\n",
        "...xxx...\n",
        "....o...."
      ],
      "metadata": {
        "id": "cVTySZGdnbBZ"
      },
      "execution_count": null,
      "outputs": []
    },
    {
      "cell_type": "code",
      "source": [
        "heigh = 5\n",
        "i = 0\n",
        "while i < heigh:\n",
        "    # 奇數層: i = 0 2 4 6 8\n",
        "    if i % 2 == 0:\n",
        "      lsymbol, msymbol, rsymbol = \" \", \"o\", \" \"\n",
        "    # 偶數層:(i % == 1)\n",
        "    else:\n",
        "      lsymbol, msymbol, rsymbol = \" \", \"x\", \" \"\n",
        "    lcount = i\n",
        "    mcount = (2 * heigh - 1) - 2 * i\n",
        "    rcount = i\n",
        "    print(lsymbol * lcount +\n",
        "       msymbol * mcount +\n",
        "       rsymbol * rcount)\n",
        "    i = i + 1"
      ],
      "metadata": {
        "colab": {
          "base_uri": "https://localhost:8080/"
        },
        "id": "gzHEdO7InrtE",
        "outputId": "fc676a05-e5a6-48ec-b85d-ba92afb7eecb"
      },
      "execution_count": 29,
      "outputs": [
        {
          "output_type": "stream",
          "name": "stdout",
          "text": [
            "ooooooooo\n",
            " xxxxxxx \n",
            "  ooooo  \n",
            "   xxx   \n",
            "    o    \n"
          ]
        }
      ]
    },
    {
      "cell_type": "markdown",
      "source": [
        "```python\n",
        "\n",
        "編碼: 我 -> 0101010101\n",
        "解碼: 1010101010 -> 我\n",
        "\n",
        "編碼和解碼(以前) 各國自行規定\n",
        "繁體中文: BIG5\n",
        "簡體中文: GBK\n",
        "\n",
        "亂碼原因: 編碼和解碼使用的不一致\n",
        "\n",
        "(現在)全世界只有一套編碼(Unicode 萬國碼)\n",
        "我們目前使用的就只有Unicode裡面一個分支utf-8\n",
        "\n",
        "\n",
        "```"
      ],
      "metadata": {
        "id": "K25GzDslqHfZ"
      }
    },
    {
      "cell_type": "code",
      "source": [
        " #例題3 清單輪迴\n",
        "\n",
        "symbols = [\"\\u2660\", \"\\u2661\", \"\\u2662\", \"\\u2663\"]\n",
        "heigh = 10\n",
        "i = 0\n",
        "while i < heigh:\n",
        "    #符號 #len()求長度:如本題為4\n",
        "    lsymbol = \" \"\n",
        "    msymbol = symbols[i%len(symbols)]\n",
        "    rsymbol = \" \"\n",
        "    #數目\n",
        "    lcount = i\n",
        "    mcount = ( 2 * heigh - 1) - 2 * i\n",
        "    rcount = i\n",
        "    print(lsymbol * lcount +\n",
        "       msymbol * mcount +\n",
        "       rsymbol * rcount)\n",
        "    i = i + 1"
      ],
      "metadata": {
        "colab": {
          "base_uri": "https://localhost:8080/"
        },
        "id": "OAMDclq9prhG",
        "outputId": "19e97ced-251c-4527-8180-73e652bb5e08"
      },
      "execution_count": 30,
      "outputs": [
        {
          "output_type": "stream",
          "name": "stdout",
          "text": [
            "♠♠♠♠♠♠♠♠♠♠♠♠♠♠♠♠♠♠♠\n",
            " ♡♡♡♡♡♡♡♡♡♡♡♡♡♡♡♡♡ \n",
            "  ♢♢♢♢♢♢♢♢♢♢♢♢♢♢♢  \n",
            "   ♣♣♣♣♣♣♣♣♣♣♣♣♣   \n",
            "    ♠♠♠♠♠♠♠♠♠♠♠    \n",
            "     ♡♡♡♡♡♡♡♡♡     \n",
            "      ♢♢♢♢♢♢♢      \n",
            "       ♣♣♣♣♣       \n",
            "        ♠♠♠        \n",
            "         ♡         \n"
          ]
        }
      ]
    },
    {
      "cell_type": "markdown",
      "source": [
        "# **迴圈PART2**\n",
        "\n",
        "```python\n",
        "有記憶體的迴圈 - 記憶體要取個名字，放在迴圈外\n",
        "!!! 拒絕跳躍性思考\n",
        "\n",
        "\n",
        "```\n"
      ],
      "metadata": {
        "id": "_JXsU-kIFx_t"
      }
    },
    {
      "cell_type": "code",
      "source": [
        "total = 0\n",
        "i = 0\n",
        "while i < 10:\n",
        "    total = total + (i + 1)\n",
        "    print(total)\n",
        "    i = i + 1\n"
      ],
      "metadata": {
        "colab": {
          "base_uri": "https://localhost:8080/"
        },
        "id": "wmD5eJgRHH0g",
        "outputId": "7b59d57f-c667-4432-92ee-b7cc7ff45369"
      },
      "execution_count": 34,
      "outputs": [
        {
          "output_type": "stream",
          "name": "stdout",
          "text": [
            "1\n",
            "3\n",
            "6\n",
            "10\n",
            "15\n",
            "21\n",
            "28\n",
            "36\n",
            "45\n",
            "55\n"
          ]
        }
      ]
    },
    {
      "cell_type": "markdown",
      "source": [
        "a = 2  < b = 7\n",
        "a / b = 0.2857142857\n",
        "a = 3  b = 5\n",
        "a / b = 0.6000000000"
      ],
      "metadata": {
        "id": "mhXQrSjDHnK4"
      }
    },
    {
      "cell_type": "code",
      "source": [
        "# 2 / 7 取10位\n",
        "\n",
        "a, b = 2, 7\n",
        "ans = \"0.\"\n",
        "\n",
        "i = 0\n",
        "while i < 10:\n",
        "    # 2 -> 20\n",
        "    a10 = a * 10\n",
        "    # 20 // 7 -> 0.2\n",
        "    ans = ans + str(a10 // b)\n",
        "    # 20 % 7\n",
        "    a = a10 % b\n",
        "    print(ans)\n",
        "    i = i + 1"
      ],
      "metadata": {
        "colab": {
          "base_uri": "https://localhost:8080/"
        },
        "id": "NyhMJ0VOIu7j",
        "outputId": "62dbd7a8-752f-4e89-c377-6b6c4e3604a7"
      },
      "execution_count": 35,
      "outputs": [
        {
          "output_type": "stream",
          "name": "stdout",
          "text": [
            "0.2\n",
            "0.28\n",
            "0.285\n",
            "0.2857\n",
            "0.28571\n",
            "0.285714\n",
            "0.2857142\n",
            "0.28571428\n",
            "0.285714285\n",
            "0.2857142857\n"
          ]
        }
      ]
    },
    {
      "cell_type": "code",
      "source": [
        "# ord() 查詢編碼 ASCII https://zh.wikipedia.org/zh-tw/ASCII\n",
        "\n",
        "s = \"asdfsDfgvv   ,, WqrRrwqr. wQr123123rqw5tAfg\"\n",
        "# 英文大小寫, 妳要幫我統計出來s裡面有多少個小寫 多少個大寫\n",
        "lcase, ucase = 0, 0\n",
        "i = 0\n",
        "while i < len(s):\n",
        "    n = ord(s[i])\n",
        "    if ord(\"A\") <= n <= ord(\"Z\"):\n",
        "        ucase = ucase + 1\n",
        "    elif ord(\"a\") <= n <= ord(\"z\"):\n",
        "        lcase = lcase + 1\n",
        "    i = i + 1\n",
        "print(ucase, lcase)"
      ],
      "metadata": {
        "colab": {
          "base_uri": "https://localhost:8080/"
        },
        "id": "rHUz6P8uNf3f",
        "outputId": "c58b4aaf-4ace-41de-b039-75ebf347f8d1"
      },
      "execution_count": 38,
      "outputs": [
        {
          "output_type": "stream",
          "name": "stdout",
          "text": [
            "5 23\n"
          ]
        }
      ]
    },
    {
      "cell_type": "code",
      "source": [
        "from binascii import crc32\n",
        "#統計大小寫字母 每一個字母各自有幾個\n",
        "s = \"asdfsDfgvv   ,, WqrRrwqr. wQr123123rqw5tAfg\"\n",
        "ucases = [0] * 26\n",
        "lcases = [0] * 26\n",
        "i = 0\n",
        "while i < len(s):\n",
        "    n = ord(s[i])\n",
        "    if ord(\"A\") <= n <= ord(\"Z\"):\n",
        "        # 65 90\n",
        "        n= n - ord(\"A\")\n",
        "        ucases[n] = ucases[n] + 1\n",
        "    elif ord(\"a\") <= n <= ord(\"z\"):\n",
        "        # 97 122\n",
        "        n = n - ord(\"a\")\n",
        "        lcases[n] = lcases[n] + 1\n",
        "    i = i + 1\n",
        "print(ucases)\n",
        "print(lcases)\n",
        "\n",
        "# 要印出26行\n",
        "# A: 5 a:3\n",
        "# B: 2 b:4\n",
        "# chr()解碼 轉回英文字母   ex: chr(65) -> A\n",
        "\n",
        "i = 0\n",
        "while i < len(ucases):\n",
        "    c1, c2 = chr(i + ord(\"A\")), chr(i + ord(\"a\"))\n",
        "    n1, n2 = ucases[i], lcases[i]\n",
        "    print(c1, n1, \"/\", c2, n2)\n",
        "    i = i + 1\n",
        ""
      ],
      "metadata": {
        "colab": {
          "base_uri": "https://localhost:8080/"
        },
        "id": "Y1EYRuXSRlZs",
        "outputId": "73b14873-614f-451f-d1cb-cb6bd36dd972"
      },
      "execution_count": 56,
      "outputs": [
        {
          "output_type": "stream",
          "name": "stdout",
          "text": [
            "[1, 0, 0, 1, 0, 0, 0, 0, 0, 0, 0, 0, 0, 0, 0, 0, 1, 1, 0, 0, 0, 0, 1, 0, 0, 0]\n",
            "[1, 0, 0, 1, 0, 3, 2, 0, 0, 0, 0, 0, 0, 0, 0, 0, 3, 5, 2, 1, 0, 2, 3, 0, 0, 0]\n",
            "A 1 / a 1\n",
            "B 0 / b 0\n",
            "C 0 / c 0\n",
            "D 1 / d 1\n",
            "E 0 / e 0\n",
            "F 0 / f 3\n",
            "G 0 / g 2\n",
            "H 0 / h 0\n",
            "I 0 / i 0\n",
            "J 0 / j 0\n",
            "K 0 / k 0\n",
            "L 0 / l 0\n",
            "M 0 / m 0\n",
            "N 0 / n 0\n",
            "O 0 / o 0\n",
            "P 0 / p 0\n",
            "Q 1 / q 3\n",
            "R 1 / r 5\n",
            "S 0 / s 2\n",
            "T 0 / t 1\n",
            "U 0 / u 0\n",
            "V 0 / v 2\n",
            "W 1 / w 3\n",
            "X 0 / x 0\n",
            "Y 0 / y 0\n",
            "Z 0 / z 0\n"
          ]
        }
      ]
    }
  ]
}