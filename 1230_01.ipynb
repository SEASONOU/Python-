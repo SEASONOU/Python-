{
  "nbformat": 4,
  "nbformat_minor": 0,
  "metadata": {
    "colab": {
      "private_outputs": true,
      "provenance": [],
      "authorship_tag": "ABX9TyNE4piosLtytfeEOh/S9nUX",
      "include_colab_link": true
    },
    "kernelspec": {
      "name": "python3",
      "display_name": "Python 3"
    },
    "language_info": {
      "name": "python"
    }
  },
  "cells": [
    {
      "cell_type": "markdown",
      "metadata": {
        "id": "view-in-github",
        "colab_type": "text"
      },
      "source": [
        "<a href=\"https://colab.research.google.com/github/SEASONOU/Python-/blob/main/1230_01.ipynb\" target=\"_parent\"><img src=\"https://colab.research.google.com/assets/colab-badge.svg\" alt=\"Open In Colab\"/></a>"
      ]
    },
    {
      "cell_type": "markdown",
      "source": [
        "#迴圈\n",
        "\n",
        "```python\n",
        "\n",
        "Part1. 重複n次: 從0開始數到n-1次\n",
        "10: 0 1 ... 9\n",
        "\n",
        "準備一個計數器\n",
        "1. 初始化: i = 0\n",
        "2. 判斷: i < 10\n",
        "3. 增加: i = i + 1\n",
        "\n",
        "i = 0\n",
        "while i < 10:\n",
        "    print(\"Hello\")\n",
        "    i = i + 1\n",
        "\n",
        "好習慣: 這三行絕對不改\n",
        "1.次數就在 < 後面\n",
        "2.數: 0 1 ... 次-1\n",
        "\n",
        "Q1. 1 2 ... 10\n",
        "A1. i + 1\n",
        "\n",
        "Q2. 10 9 .... 1\n",
        "A2. 10 - i\n",
        "\n",
        "Q3. 1 3 5 7\n",
        "Q3. 2 * i + 1\n",
        "\n",
        "\n",
        "````"
      ],
      "metadata": {
        "id": "9Xl3TDb6QEoo"
      }
    },
    {
      "cell_type": "markdown",
      "source": [],
      "metadata": {
        "id": "H4LCdywJbyWj"
      }
    },
    {
      "cell_type": "code",
      "source": [
        "i = 0\n",
        "while i < 10:\n",
        "    print(5 + i,\n",
        "       20 - i,\n",
        "       2 * i + 1,\n",
        "       #50 47 44\n",
        "       50 - 3 * i)\n",
        "    i = i + 1"
      ],
      "metadata": {
        "id": "SxO1f6f_Vttw"
      },
      "execution_count": null,
      "outputs": []
    },
    {
      "cell_type": "code",
      "source": [
        "i = 0\n",
        "while i <10:\n",
        "    i = i + 1"
      ],
      "metadata": {
        "id": "VVvgIfMGcHFH"
      },
      "execution_count": null,
      "outputs": []
    },
    {
      "cell_type": "code",
      "source": [
        "i = 0\n",
        "while i < 10:\n",
        "    print(\"x\" * (i + 1))\n",
        "    i = i + 1"
      ],
      "metadata": {
        "id": "60h1WpgVdCH1"
      },
      "execution_count": null,
      "outputs": []
    },
    {
      "cell_type": "code",
      "source": [
        "#範例\n",
        "heigh = 10\n",
        "lsymbol, rsymbol = \" \", \"o\"\n",
        "i = 0\n",
        "while i < heigh:\n",
        "    lcount = heigh - i - 1\n",
        "    rcount = i + 1\n",
        "    print(lsymbol * lcount +\n",
        "       rsymbol * rcount)\n",
        "    i = i + 1"
      ],
      "metadata": {
        "id": "15Pv4LO0d2Ob"
      },
      "execution_count": null,
      "outputs": []
    },
    {
      "cell_type": "code",
      "source": [
        "#例題1\n",
        "#寫出語法: .=空白\n",
        "ooooooo\n",
        ".ooooo.\n",
        "..ooo..\n",
        "...o..."
      ],
      "metadata": {
        "id": "qhSwYcRqhrAX"
      },
      "execution_count": null,
      "outputs": []
    },
    {
      "cell_type": "code",
      "source": [
        "heigh = 4\n",
        "lsymbol, msymbol, rsymbol = \" \", \"o\", \" \"\n",
        "i = 0\n",
        "while i < heigh:\n",
        "    lcount = i\n",
        "    # 7 = (4 * 2 - 1)  第一排數量=(層數 * 2 - 1)\n",
        "    mcount = (heigh * 2 - 1) - 2 * i\n",
        "    rcount = i\n",
        "    print(lsymbol * lcount +\n",
        "       msymbol * mcount +\n",
        "       rsymbol * rcount)\n",
        "    i = i + 1"
      ],
      "metadata": {
        "id": "T5qylwdgiBhx"
      },
      "execution_count": null,
      "outputs": []
    },
    {
      "cell_type": "code",
      "source": [
        "#例題2\n",
        "#寫出語法: .=空白\n",
        "ooooooooo\n",
        ".xxxxxxx.\n",
        "..ooooo..\n",
        "...xxx...\n",
        "....o...."
      ],
      "metadata": {
        "id": "cVTySZGdnbBZ"
      },
      "execution_count": null,
      "outputs": []
    },
    {
      "cell_type": "code",
      "source": [
        "heigh = 5\n",
        "i = 0\n",
        "while i < heigh:\n",
        "    # 奇數層: i = 0 2 4 6 8\n",
        "    if i % 2 == 0:\n",
        "      lsymbol, msymbol, rsymbol = \" \", \"o\", \" \"\n",
        "    # 偶數層:(i % == 1)\n",
        "    else:\n",
        "      lsymbol, msymbol, rsymbol = \" \", \"x\", \" \"\n",
        "    lcount = i\n",
        "    mcount = (2 * heigh - 1) - 2 * i\n",
        "    rcount = i\n",
        "    print(lsymbol * lcount +\n",
        "       msymbol * mcount +\n",
        "       rsymbol * rcount)\n",
        "    i = i + 1"
      ],
      "metadata": {
        "id": "gzHEdO7InrtE"
      },
      "execution_count": null,
      "outputs": []
    },
    {
      "cell_type": "markdown",
      "source": [
        "```python\n",
        "\n",
        "編碼: 我 -> 0101010101\n",
        "解碼: 1010101010 -> 我\n",
        "\n",
        "編碼和解碼(以前) 各國自行規定\n",
        "繁體中文: BIG5\n",
        "簡體中文: GBK\n",
        "\n",
        "亂碼原因: 編碼和解碼使用的不一致\n",
        "\n",
        "(現在)全世界只有一套編碼(Unicode 萬國碼)\n",
        "我們目前使用的就只有Unicode\n",
        "\n",
        "\n",
        "````"
      ],
      "metadata": {
        "id": "K25GzDslqHfZ"
      }
    },
    {
      "cell_type": "code",
      "source": [
        " #例題3 清單輪迴\n",
        "\n",
        "symbols = [\"\\u2660\", \"\\u2661\", \"\\u2662\", \"\\u2663\"]\n",
        "heigh = 10\n",
        "i = 0\n",
        "while i < heigh:\n",
        "    #符號 #len()求長度\n",
        "    lsymbol = \" \"\n",
        "    msymbol = symbols[i%len(symbols)]\n",
        "    rsymbol = \" \"\n",
        "    #數目\n",
        "    lcount = i\n",
        "    mcount = ( 2 * heigh - 1) - 2 * i\n",
        "    rcount = i\n",
        "    print(lsymbol * lcount +\n",
        "       msymbol * mcount +\n",
        "       rsymbol * rcount)\n",
        "    i = i + 1"
      ],
      "metadata": {
        "id": "OAMDclq9prhG"
      },
      "execution_count": null,
      "outputs": []
    }
  ]
}