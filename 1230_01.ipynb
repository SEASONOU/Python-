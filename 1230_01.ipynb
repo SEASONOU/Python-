{
  "nbformat": 4,
  "nbformat_minor": 0,
  "metadata": {
    "colab": {
      "private_outputs": true,
      "provenance": [],
      "authorship_tag": "ABX9TyNDqnGWh8gdZmm+fv7tlP/J",
      "include_colab_link": true
    },
    "kernelspec": {
      "name": "python3",
      "display_name": "Python 3"
    },
    "language_info": {
      "name": "python"
    }
  },
  "cells": [
    {
      "cell_type": "markdown",
      "metadata": {
        "id": "view-in-github",
        "colab_type": "text"
      },
      "source": [
        "<a href=\"https://colab.research.google.com/github/SEASONOU/Python-20241124/blob/main/1230_01.ipynb\" target=\"_parent\"><img src=\"https://colab.research.google.com/assets/colab-badge.svg\" alt=\"Open In Colab\"/></a>"
      ]
    },
    {
      "cell_type": "markdown",
      "source": [
        "#迴圈\n",
        "\n",
        "```python\n",
        "\n",
        "Part1. 重複n次: 從0開始數到n-1次\n",
        "10: 0 1 ... 9\n",
        "\n",
        "準備一個計數器\n",
        "1. 初始化: i = 0\n",
        "2. 判斷: i < 10\n",
        "3. 增加: i = i + 1\n",
        "\n",
        "i = 0\n",
        "while i < 10:\n",
        "    print(\"Hello\")\n",
        "    i = i + 1\n",
        "\n",
        "好習慣: 這三行絕對不改\n",
        "1.次數就在 < 後面\n",
        "2.數: 0 1 ... 次-1\n",
        "\n",
        "Q1. 1 2 ... 10\n",
        "A1. i + 1\n",
        "\n",
        "Q2. 10 9 .... 1\n",
        "A2. 10 - i\n",
        "\n",
        "Q3. 1 3 5 7\n",
        "Q3. 2 * i + 1\n",
        "\n",
        "\n",
        "````"
      ],
      "metadata": {
        "id": "9Xl3TDb6QEoo"
      }
    },
    {
      "cell_type": "code",
      "source": [
        "i = 0\n",
        "while i < 10:\n",
        "    print(5 + i,\n",
        "       20 - i,\n",
        "       2 * i + 1,\n",
        "       #50 47 44\n",
        "       50 - 3 * i)\n",
        "    i = i + 1"
      ],
      "metadata": {
        "id": "SxO1f6f_Vttw"
      },
      "execution_count": null,
      "outputs": []
    }
  ]
}