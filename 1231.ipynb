{
  "nbformat": 4,
  "nbformat_minor": 0,
  "metadata": {
    "colab": {
      "provenance": [],
      "authorship_tag": "ABX9TyMM/fldnqaa30itcAkXQMDx",
      "include_colab_link": true
    },
    "kernelspec": {
      "name": "python3",
      "display_name": "Python 3"
    },
    "language_info": {
      "name": "python"
    }
  },
  "cells": [
    {
      "cell_type": "markdown",
      "metadata": {
        "id": "view-in-github",
        "colab_type": "text"
      },
      "source": [
        "<a href=\"https://colab.research.google.com/github/SEASONOU/Python-/blob/main/1231.ipynb\" target=\"_parent\"><img src=\"https://colab.research.google.com/assets/colab-badge.svg\" alt=\"Open In Colab\"/></a>"
      ]
    },
    {
      "cell_type": "markdown",
      "source": [
        "# 迴圈第三\n",
        "\n",
        "```python\n",
        "不限次數的迴圈\n",
        "\n",
        "!!!while 後面自由寫\n",
        "\n",
        "布林(Boolean)型態: 是否型態\n",
        "True False\n",
        "1. 不: not加在前面\n",
        "2. 組合: 而且(and) 或者(or)\n",
        "條件1 and 條件2\n",
        "ex: bmi > 25 and height  > 175\n",
        "!!! 而且和或者會用反的人 都是\"中文有問題\"\n",
        "\n",
        "\n",
        "\n",
        "\n",
        "```"
      ],
      "metadata": {
        "id": "KDHtPXD2R-NI"
      }
    },
    {
      "cell_type": "code",
      "source": [
        "import random\n",
        "\n",
        "#隨機一個整數 -1: 輸 0: 平手 1: 贏\n",
        "\n",
        "trans = [\"輸(L)\", \"平手(E)\", \"贏(W)\"]\n",
        "\n",
        "win, even, lose = 0, 0, 0\n",
        "# 條件1: win < 3\n",
        "# 條件2: lose > 3\n",
        "# 當 我還沒贏三次 而且 隊手還沒贏三次 我們就繼續玩(O)\n",
        "# 當 我還沒贏三次 或者 對手還沒贏三次 我們就繼續玩(X) -> 代表 每個人˙都要贏三次 才結束\n",
        "\n",
        "while win < 3 and lose < 3:\n",
        "    result = random.randint(-1, 1)\n",
        "    print (trans[result+1])\n",
        "    if result == -1:\n",
        "        lose = lose + 1\n",
        "    elif result == 0:\n",
        "        even = even + 1\n",
        "    elif result == 1:\n",
        "        win = win + 1\n",
        "if win > lose:\n",
        "    print(\"總體: WIN\")\n",
        "else:\n",
        "    print(\"總體: LOSE\")\n"
      ],
      "metadata": {
        "colab": {
          "base_uri": "https://localhost:8080/"
        },
        "id": "84GWxnH5SMWA",
        "outputId": "410f829b-6712-4293-c526-7247237aebd4"
      },
      "execution_count": null,
      "outputs": [
        {
          "output_type": "stream",
          "name": "stdout",
          "text": [
            "平手(E)\n",
            "贏(W)\n",
            "平手(E)\n",
            "輸(L)\n",
            "平手(E)\n",
            "贏(W)\n",
            "平手(E)\n",
            "輸(L)\n",
            "贏(W)\n",
            "總體: WIN\n"
          ]
        }
      ]
    },
    {
      "cell_type": "markdown",
      "source": [
        "```python\n",
        "while 永遠對的描述: 無窮迴圈\n",
        "-> while True\n",
        "\n",
        "-> while False\n",
        "\n",
        "```"
      ],
      "metadata": {
        "id": "3AKztR2_d882"
      }
    },
    {
      "cell_type": "code",
      "source": [
        "import random\n",
        "\n",
        "#隨機一個整數 -1: 輸 0: 平手 1: 贏\n",
        "\n",
        "trans = [\"輸(L)\", \"平手(E)\", \"贏(W)\"]\n",
        "\n",
        "win, even, lose = 0, 0, 0\n",
        "# 條件1: win < 3\n",
        "# 條件2: lose > 3\n",
        "# 當 我還沒贏三次 而且 隊手還沒贏三次 我們就繼續玩(O)\n",
        "# 當 我還沒贏三次 或者 對手還沒贏三次 我們就繼續玩(X) -> 代表 每個人˙都要贏三次 才結束\n",
        "\n",
        "while True:\n",
        "    result = random.randint(-1, 1)\n",
        "    print (trans[result+1])\n",
        "    if result == -1:\n",
        "        lose = lose + 1\n",
        "    elif result == 0:\n",
        "        even = even + 1\n",
        "    elif result == 1:\n",
        "        win = win + 1\n",
        "    # 判斷改在這\n",
        "    # 1. 妳不用在while後面塞下所有條件, 甚至妳不用塞一堆and/or(地點自由)\n",
        "    # 2. 任意時間判斷(時間自由)\n",
        "    # 3. 是妳可以做完收尾工作才結束迴圈(流程自由)\n",
        "    # 4. 隱性好處: 有時候結束講中文會比較容易\n",
        "    if win >= 3:\n",
        "        print(\"總體: WIN\")\n",
        "        break\n",
        "    elif lose >= 3:\n",
        "        print(\"總體: LOSE\")\n",
        "        break\n",
        "\n",
        "    if win >= 3:\n",
        "        break\n",
        "    elif lose >= 3 :\n",
        "        break\n"
      ],
      "metadata": {
        "colab": {
          "base_uri": "https://localhost:8080/"
        },
        "id": "6LCkash_ewOv",
        "outputId": "000ed04c-9a7c-434f-f8cb-3b040ca8608d"
      },
      "execution_count": null,
      "outputs": [
        {
          "output_type": "stream",
          "name": "stdout",
          "text": [
            "輸(L)\n",
            "輸(L)\n",
            "平手(E)\n",
            "贏(W)\n",
            "輸(L)\n",
            "總體: LOSE\n"
          ]
        }
      ]
    },
    {
      "cell_type": "code",
      "source": [
        "# 如果今天整除 要提早結束\n",
        "# 2 / 7 -> 0.2857142857\n",
        "# 3 / 5 -> 0.6\n",
        "# 50 / 7 -> 7.14285714258\n",
        "a, b = 50, 7\n",
        "ans = str(a//b) + \".\"\n",
        "a = a % b\n",
        "\n",
        "i = 0\n",
        "while i < 10:\n",
        "    # 2 -> 20\n",
        "    a10 = a * 10\n",
        "    # 20 // 7 -> 0.2\n",
        "    ans = ans + str(a10 // b)\n",
        "    print(ans)\n",
        "    # 20 % 7\n",
        "    a = a10 % b\n",
        "    if a == 0:\n",
        "        break\n",
        "    i = i + 1"
      ],
      "metadata": {
        "colab": {
          "base_uri": "https://localhost:8080/"
        },
        "id": "098SAfKjijQF",
        "outputId": "96a82fea-7bc9-4b74-8c70-42ab4009180a"
      },
      "execution_count": null,
      "outputs": [
        {
          "output_type": "stream",
          "name": "stdout",
          "text": [
            "7.1\n",
            "7.14\n",
            "7.142\n",
            "7.1428\n",
            "7.14285\n",
            "7.142857\n",
            "7.1428571\n",
            "7.14285714\n",
            "7.142857142\n",
            "7.1428571428\n"
          ]
        }
      ]
    },
    {
      "cell_type": "markdown",
      "source": [
        "#完全平方日\n",
        "\n",
        "```python\n",
        "4499 ** 2 -> 20241001(O)\n",
        "4497 ** 2 -> 20223009(X)\n",
        "\n",
        "\n",
        "目標: 給你隨便一個日期, 幫我往後出10個完全平方日\n",
        "\n",
        "1.首先判斷日期是不是合理合規\n",
        "\n",
        "\n",
        "```"
      ],
      "metadata": {
        "id": "1sXnSQn3lopK"
      }
    },
    {
      "cell_type": "markdown",
      "source": [
        "```python\n",
        "閏年寫法1\n",
        "if year % 400 == 0:\n",
        "    month_day = month_day + 1\n",
        "elif year % 100 == 0:\n",
        "    pass\n",
        "elif year % 4 == 0:\n",
        "    month_day = month_day + 1\n",
        "\n",
        "閏年寫法2\n",
        "if year % 4 == 0:\n",
        "    if year % 100 == 0:\n",
        "        if year % 400 == 0:\n",
        "            month_day = month_day + 1\n",
        "        else:\n",
        "            pass\n",
        "    else:\n",
        "        month_day = month_day + 1\n",
        "else:\n",
        "    pass\n",
        "\n",
        "閏年寫法3\n",
        "if year % 4 == 0:\n",
        "    month_day = month_day + 1\n",
        "if year % 100 == 0:\n",
        "    month_day = month_day - 1\n",
        "\n",
        "\n",
        "\n",
        "!!! 應該要考慮的是 過了很久以後 3100年以後又差了一天\n",
        "!!! 這想起來是符合潤的邏輯的, 以目前的計算方式, 每過多少年會多一天/少一天\n",
        "\n",
        "\n",
        "發覺每四年少一天\n",
        "-> 每過四年 2月多加一天\n",
        "-> 建立在上面條件上, 當我在80年的時候 我又會多一天了(扣1)\n",
        "\n",
        "\n",
        "\n",
        "!!! 本來閏年可能是第三種, 但這樣太難想了, 所以閏年邏輯已經被轉變成第一種了, 每一個情況一定是之前情況的包含!!!\n",
        "```"
      ],
      "metadata": {
        "id": "gW5Yxi9EPzLc"
      }
    },
    {
      "cell_type": "markdown",
      "source": [
        "#自訂功能\n",
        "\n",
        "```python\n",
        "def 功能名(參數):\n",
        "    很多事\n",
        "    return 回傳值\n",
        "\n",
        "!!! 定義參數的時候只是先給個代號\n",
        "!!! 如果你不寫return, 就是沒回傳值\n",
        "!!! 如果你沒有參數, ()還是要打\n",
        "\n",
        "\n",
        "```"
      ],
      "metadata": {
        "id": "0Gt_UjbWQDqG"
      }
    },
    {
      "cell_type": "code",
      "source": [
        "#自訂功能Demo\n",
        "def add(n1, n2):\n",
        "    ans = n1 + n2\n",
        "    return ans\n",
        "print(add(3, 6))\n",
        "print(add(5, 4))"
      ],
      "metadata": {
        "colab": {
          "base_uri": "https://localhost:8080/"
        },
        "id": "gt8n28fGQYw7",
        "outputId": "b58e9db7-16eb-4198-dfde-9507da47d8c0"
      },
      "execution_count": 20,
      "outputs": [
        {
          "output_type": "stream",
          "name": "stdout",
          "text": [
            "9\n",
            "9\n"
          ]
        }
      ]
    },
    {
      "cell_type": "code",
      "source": [
        "# n = 19800229\n",
        "# n = 20000229\n",
        "# n = 30000229\n",
        "def is_leap_year(year):\n",
        "    if year % 400 == 0:\n",
        "        return True\n",
        "    elif year % 100 == 0:\n",
        "        return False\n",
        "    elif year % 4 == 0:\n",
        "        return True\n",
        "    else:\n",
        "        return False\n",
        "\n",
        "def is_valid_date(n):\n",
        "    year = n // 10000\n",
        "    last4 = n % 10000\n",
        "    day = last4 % 100\n",
        "    month = last4 // 100\n",
        "    # print(year, month, day)\n",
        "\n",
        "    max_days = [31, 28, 31, 30, 31, 30, 31, 31, 30, 31, 30, 31]\n",
        "    if 1 <= month <= 12:\n",
        "        month_day = max_days[month-1]\n",
        "        # 考慮閏年\n",
        "        if month == 2 and is_leap_year(year) == True:\n",
        "            month_day = month_day + 1\n",
        "\n",
        "        if 1 <= day <= month_day:\n",
        "            # print(\"合理\")\n",
        "            return True\n",
        "        else:\n",
        "            # print(\"不合理日期(天)\")\n",
        "            return False\n",
        "    else:\n",
        "        # print(\"不合理日期(月)\")\n",
        "        return False\n",
        "\n",
        "# print(is_valid_date(19800229))\n",
        "# print(is_valid_date(20000229))\n",
        "# print(is_valid_date(30000229))\n",
        "\n",
        "# 正面: 把真實的日期拿出來, 檢查她可以不可以被開根號\n",
        "# 反面: 先拿值出來, 平方, 看這個平方過後的東西可不可以當日期(o)\n",
        "import math\n",
        "today = 20241231\n",
        "start = math.ceil(today ** 0.5)\n",
        "count = 0\n",
        "while True:\n",
        "    date = start ** 2\n",
        "    if is_valid_date(date) == True:\n",
        "        print(start, date, \"是個完全平方日\")\n",
        "        count = count + 1\n",
        "    start = start + 1\n",
        "    if count == 10:\n",
        "        break"
      ],
      "metadata": {
        "colab": {
          "base_uri": "https://localhost:8080/"
        },
        "id": "GMhk81wymdkx",
        "outputId": "1ec659ab-be39-4bfd-ff8d-3a1440fdc9ed"
      },
      "execution_count": 25,
      "outputs": [
        {
          "output_type": "stream",
          "name": "stdout",
          "text": [
            "4552 20720704 是個完全平方日\n",
            "4575 20930625 是個完全平方日\n",
            "4599 21150801 是個完全平方日\n",
            "4625 21390625 是個完全平方日\n",
            "4639 21520321 是個完全平方日\n",
            "4652 21641104 是個完全平方日\n",
            "4653 21650409 是個完全平方日\n",
            "4668 21790224 是個完全平方日\n",
            "4682 21921124 是個完全平方日\n",
            "4698 22071204 是個完全平方日\n"
          ]
        }
      ]
    },
    {
      "cell_type": "markdown",
      "source": [
        "```python\n",
        "每4潤 100不潤 400潤\n",
        "1980 -> 潤 4的倍數 不是100的倍數\n",
        "2000 -> 潤 4的倍數 也是100的倍數 也是400的倍數\n",
        "3000 -> 不潤 4的倍數 也是100的倍數 但不是400的倍數\n",
        "\n",
        "\n",
        "```"
      ],
      "metadata": {
        "id": "8yYQ4S5AP7Qs"
      }
    }
  ]
}