{
  "nbformat": 4,
  "nbformat_minor": 0,
  "metadata": {
    "colab": {
      "private_outputs": true,
      "provenance": [],
      "authorship_tag": "ABX9TyPQh2D3FZFV7bLKMF1Ej2DA",
      "include_colab_link": true
    },
    "kernelspec": {
      "name": "python3",
      "display_name": "Python 3"
    },
    "language_info": {
      "name": "python"
    }
  },
  "cells": [
    {
      "cell_type": "markdown",
      "metadata": {
        "id": "view-in-github",
        "colab_type": "text"
      },
      "source": [
        "<a href=\"https://colab.research.google.com/github/SEASONOU/Python-/blob/main/0102%E7%88%AC%E8%9F%B2.ipynb\" target=\"_parent\"><img src=\"https://colab.research.google.com/assets/colab-badge.svg\" alt=\"Open In Colab\"/></a>"
      ]
    },
    {
      "cell_type": "markdown",
      "source": [
        "#網路\n",
        "\n",
        "```python\n",
        "網路\n",
        "!!! 隱藏網址 !!! 網址裡的參數: ?參數名=值&參數名=值\n",
        "\n",
        "yt\n",
        "刪掉: &ump=1 &range=0-122050\n",
        "\n",
        "影片合併\n",
        "Youtube\n",
        "\n",
        "WIN: https://drive.google.com/file/d/1NG1jLgtNSMA8Gu_WKtfpa7a7sOsXoRiI/view?usp=sharing\n",
        "\n",
        "MAC: https://drive.google.com/file/d/1jeMX_L6j4iINj9f9pRXyddxeHPuLkQJu/view?usp=sharing\n",
        "\n",
        "指令: ffmpeg.exe -i 聲音 -i 影片 out.mp4\n",
        "\n",
        "BAHA\n",
        "\n",
        "WIN: -headers \"Origin: https://ani.gamer.com.tw\" -i \"\" anime.mp4\n",
        "\n",
        "MAC: -headers 'Origin: https://ani.gamer.com.tw' -i '' anime.mp4\n",
        "\n",
        "command line原理\n",
        "執行擋(.exe) 參數\n",
        "\n",
        "參數有兩種帶法:\n",
        "1. 直接寫: 如果位置固定(譬如是最尾巴)\n",
        "2. 先加提示在開始寫: -i 檔案名字\n",
        "長提示: --input\n",
        "短提示: -i\n",
        "\n",
        "常用指令:\n",
        "cd 資料夾位致\n",
        "\n",
        "```"
      ],
      "metadata": {
        "id": "-KllCXP-yeu4"
      }
    },
    {
      "cell_type": "code",
      "source": [],
      "metadata": {
        "id": "H6N7T53q_oR1"
      },
      "execution_count": null,
      "outputs": []
    }
  ]
}