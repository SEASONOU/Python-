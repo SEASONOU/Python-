{
  "nbformat": 4,
  "nbformat_minor": 0,
  "metadata": {
    "colab": {
      "private_outputs": true,
      "provenance": [],
      "authorship_tag": "ABX9TyNnIVObIkI01TnMuQVkb+cW",
      "include_colab_link": true
    },
    "kernelspec": {
      "name": "python3",
      "display_name": "Python 3"
    },
    "language_info": {
      "name": "python"
    }
  },
  "cells": [
    {
      "cell_type": "markdown",
      "metadata": {
        "id": "view-in-github",
        "colab_type": "text"
      },
      "source": [
        "<a href=\"https://colab.research.google.com/github/SEASONOU/Python-/blob/main/0102_2%E7%88%AC%E8%9F%B2.ipynb\" target=\"_parent\"><img src=\"https://colab.research.google.com/assets/colab-badge.svg\" alt=\"Open In Colab\"/></a>"
      ]
    },
    {
      "cell_type": "code",
      "execution_count": null,
      "metadata": {
        "id": "mpnGKhQFu7AK"
      },
      "outputs": [],
      "source": [
        "檔案讀寫\n",
        "1. 請妳always在檔案讀寫將encoding設定為utf-8\n",
        "2. 因為你不做設置的話, 有可能會使用系統預設編碼\n",
        "\n",
        "windows: ANSI(美國標準) 對於繁體她是BIG5 對於檢體來說GBK\n",
        "MAC...UNIX系統: utf-8"
      ]
    },
    {
      "cell_type": "code",
      "source": [
        "f = open(\"a.txt\", \"w\", encoding=\"utf-8\")\n",
        "# 以前邏輯 寫入功能: write(f, \"abcde\")\n",
        "# 但我們發覺妳那第一個參數非得是檔案型態不可\n",
        "# 我們會想強調 這個功能是檔案的特殊功能\n",
        "# 專屬功能: f.write(\"abcde\")\n",
        "f.write(\"abcde\")\n",
        "# 所以打不出來的字, 譬如換行, 我們就會用兩個符號來組合這個字 \\n\n",
        "f.write(\"\\nfgh\")\n",
        "# 記得關閉, 因為關閉的時候會順便幫妳存檔\n",
        "# 以前: close(f)\n",
        "# 專屬功能: f.close()\n",
        "f.close()\n",
        ""
      ],
      "metadata": {
        "id": "Dv5aNF6z6-9B"
      },
      "execution_count": null,
      "outputs": []
    },
    {
      "cell_type": "code",
      "source": [
        "# 資料夾資料夾  資料夾檔案 分隔always使用/\n",
        "f = open(\"sample_data/README.md\", \"r\", encoding=\"utf-8\")\n",
        "# 以前: content = read(f)\n",
        "# 專屬功能: content = f.read()\n",
        "content = f.read()\n",
        "print(content)\n",
        "f.close()"
      ],
      "metadata": {
        "id": "VGFt8SUr7ATV"
      },
      "execution_count": null,
      "outputs": []
    },
    {
      "cell_type": "code",
      "source": [
        "\n",
        "# 預設值定義\n",
        "def add(n1, n2=3.14, n3=20, n4=50):\n",
        "    ans = n1 + n2 + n3\n",
        "    return ans\n",
        "print(add(3, 5))\n",
        "print(add(3))\n",
        "print(add(3, n3=40))"
      ],
      "metadata": {
        "id": "mlBuin7a7KTX"
      },
      "execution_count": null,
      "outputs": []
    },
    {
      "cell_type": "markdown",
      "source": [
        "#List 進階操作\n",
        "\n",
        "```python\n",
        "List我們之前只學了\n",
        "1. 查詢操作: list[key]\n",
        "2. 設定操作: list[key] = 30\n",
        "\n",
        "查詢進階操作\n",
        "第一組key: 0 1 2 3....\n",
        "第二組key: ,,, -3 -2 -1\n",
        "1. 反向key: list[-1] !!!!\n",
        "2. 查詢一段: list[開始key:結束key(不包含)]\n",
        "3. 查詢一段並且跳著: list[開始key:結束(不包):幾個一跳]\n",
        "\n",
        "要記得的: [0] [-1] [::-1]\n",
        "\n",
        "```"
      ],
      "metadata": {
        "id": "7bZpSa_78ff2"
      }
    },
    {
      "cell_type": "code",
      "source": [
        "scores = [30, 20, 60, 60, 40]\n",
        "print(sum(scores),\n",
        "   min(scores),\n",
        "   max(scores),\n",
        "   len(scores))\n",
        "print(60 in scores)\n",
        "\n",
        "# print(scores[len(scores)-1])\n",
        "print(scores[-1])\n",
        "\n",
        "# scores[2:4] scores[2/3]\n",
        "print(scores[1:4])\n",
        "print(scores[1:-1])\n",
        "print(scores[:4])\n",
        "print(scores[1:])\n",
        "\n",
        "# list[2:11:3] [2, 5, 8]\n",
        "print(scores[1:5:2])\n",
        "# 奇數位置\n",
        "print(scores[::2])\n",
        "# 偶數位置\n",
        "print(scores[1::2])\n",
        "# 跳號的值是正的, 就左到右\n",
        "# 跳號的值是負的, 從右到左\n",
        "# list[11:2:-3] [11, 8, 5]\n",
        "# !!!!!\n",
        "print(scores[::-1])"
      ],
      "metadata": {
        "id": "3iQ4tLU59OC-"
      },
      "execution_count": null,
      "outputs": []
    }
  ]
}