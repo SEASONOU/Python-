{
  "nbformat": 4,
  "nbformat_minor": 0,
  "metadata": {
    "colab": {
      "private_outputs": true,
      "provenance": [],
      "authorship_tag": "ABX9TyNVZkGq5mWUtl75+O1uJK56",
      "include_colab_link": true
    },
    "kernelspec": {
      "name": "python3",
      "display_name": "Python 3"
    },
    "language_info": {
      "name": "python"
    }
  },
  "cells": [
    {
      "cell_type": "markdown",
      "metadata": {
        "id": "view-in-github",
        "colab_type": "text"
      },
      "source": [
        "<a href=\"https://colab.research.google.com/github/SEASONOU/Python-/blob/main/123102%E7%88%AC%E8%9F%B2.ipynb\" target=\"_parent\"><img src=\"https://colab.research.google.com/assets/colab-badge.svg\" alt=\"Open In Colab\"/></a>"
      ]
    },
    {
      "cell_type": "markdown",
      "source": [
        "#認識網路!!!\n",
        "\n",
        "```python\n",
        "兩台電腦溝通\n",
        "\n",
        "loca <---> server\n",
        "\n",
        "server: 只答\n",
        "local: 只問\n",
        "\n",
        "一個問題一個答案的世界\n",
        "一個問題 - 網址\n",
        "一個回答 - 網頁/pdf/doc/mp3/mp4\n",
        "\n",
        "爬蟲: 反向(你看到你有興趣的答案，你要反查問題是什麼)\n",
        "\n",
        "!!! 隱藏網址: 一個網頁並不是只有一個網址構成\n",
        "\n",
        "1. 檢查原始碼(網址列的答案)\n",
        "\n",
        "\n",
        "\n",
        "```"
      ],
      "metadata": {
        "id": "ycVggzW9mqxR"
      }
    }
  ]
}